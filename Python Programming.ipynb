{
 "cells": [
  {
   "cell_type": "markdown",
   "id": "8f47c5b6",
   "metadata": {},
   "source": [
    "# SPOTIFY DATA ANALYSIS AND VISUALIZATION\n",
    "## ABOT WALL CONSULTANTS™"
   ]
  },
  {
   "cell_type": "markdown",
   "id": "7b27eae2",
   "metadata": {},
   "source": [
    "<center><img src=\"https://preview.redd.it/5hi4uvu0k3m11.png?auto=webp&s=ee229f7934e324f8e50bae587d8bf09d38614931\"  /></center>\n"
   ]
  },
  {
   "cell_type": "markdown",
   "id": "676a834b",
   "metadata": {},
   "source": [
    "## INTRODUCTION:\n",
    "\n",
    "With the shift in terms of how the average human consumes content in today’s creator-driven economy, data driven insights are at the heart of identifying what drives success for these hedonic experiences. Collaboration has become more important than ever as it is quite common to see multiple artists collaborating on their tracks. Music and Short form videos are a natural synergy now as they mesh well together and create greater value through that association. Musicians these days are also focused on trying to create tracks that can go viral on social media as that virality further fuels their success in terms of views, repeats and reshares.\n",
    "\n",
    "We at ABOT Wall Consultants are a Music Industry market research firm where clients come to us for insights so that they can leverage the market research studies and incorporate those in their decision making process to create successfull and viral music content.\n",
    "\n",
    "Currently, we have a new client who is an upcoming artist in the industry by the name of \"Lil Py\" and requires our insights and help to aid his creative music decisions.\n",
    "\n",
    "The aim of our project is to investigate and map the factors that make a song successful beyond the traditional metrics in music. Through our analysis, we aim to visualize the effect of these factors to potentially aid creative music decisions through the power of data driven decision making."
   ]
  },
  {
   "cell_type": "markdown",
   "id": "b7a8d83e",
   "metadata": {},
   "source": [
    "### DATA COLLECTION:\n",
    "\n",
    "1. The first source of data collected for the project and analysis is from Kaggle. The Kaggle dataset describes songs from the period 1942 to 2021. Songs from various genres like pop, EDM, hip-hop, rap, latin, rock etc are included along with the artist's information, release dates, number of streams for each song and the number of followers the artist has along with some additional data. Some other insightful data columns in the data set contain song features such as its popularity relative to  other songs, the energy, valence, acousticness, dancability which will be used to analyse the how these factors influence the song's success.\n",
    "\n",
    "2. Getting real-time data from Spotify API or Spotipy library: Along with the aforementioned Kaggle dataset, we will analyse the songs released in 2022 to compare how the music preferences have changed throughout the years. In order to do so, the same song features mentioned above are required. These can be obtained by using Spotipy.\n",
    "\n",
    "#### Song Features and what they mean:\n",
    "\n",
    "#### Acousticness: \n",
    "A confidence measure from 0.0 to 1.0 of whether the track is acoustic. 1.0 represents high confidence the track is acoustic.<br>\n",
    "\n",
    "#### Danceability: \n",
    "Danceability describes how suitable a track is for dancing based on a combination of musical elements including tempo, rhythm stability, beat strength, and overall regularity. A value of 0.0 is least danceable and 1.0 is most danceable.\n",
    "<br>\n",
    "\n",
    "#### Liveness:\n",
    "Detects the presence of an audience in the recording. Higher liveness values represent an increased probability that the track was performed live. A value above 0.8 provides strong likelihood that the track is live.\n",
    "<br>\n",
    "\n",
    "#### Loudness: \n",
    "The overall loudness of a track in decibels (dB). Loudness values are averaged across the entire track and are useful for comparing relative loudness of tracks. Loudness is the quality of a sound that is the primary psychological correlate of physical strength (amplitude). Values typically range between -60 and 0 db.\n",
    "<br>\n",
    "\n",
    "#### Speechiness: \n",
    "Speechiness detects the presence of spoken words in a track. The more exclusively speech-like the recording (e.g. talk show, audio book, poetry), the closer to 1.0 the attribute value. Values above 0.66 describe tracks that are probably made entirely of spoken words. Values between 0.33 and 0.66 describe tracks that may contain both music and speech, either in sections or layered, including such cases as rap music. Values below 0.33 most likely represent music and other non-speech-like tracks.\n",
    "<br>\n",
    "\n",
    "#### Valence: \n",
    "A measure from 0.0 to 1.0 describing the musical positiveness conveyed by a track. Tracks with high valence sound more positive (e.g. happy, cheerful, euphoric), while tracks with low valence sound more negative (e.g. sad, depressed, angry).\n",
    "<br>\n",
    "\n",
    "#### Duration (ms):\n",
    "The track length in milliseconds.\n",
    "\n",
    "#### Chord/Key:\n",
    "The key the track is in. Integers map to pitches using standard Pitch Class notation which is mentioned below <br>\n",
    "\n",
    "| Notation | Chord |\n",
    "|----------|-------|\n",
    "|0         |C      |\n",
    "|1         |C♯, D♭ |\n",
    "|2         |D      |\n",
    "|3         |D♯, E♭ |\n",
    "|4         |E      |\n",
    "|5         |F      |\n",
    "|6         |F♯, G♭ |\n",
    "|7         |G      |\n",
    "|8         |G♯, A♭ |\n",
    "|9         |A      |\n",
    "|10        |A♯, B♭ |\n",
    "|11        |B      |"
   ]
  },
  {
   "cell_type": "markdown",
   "id": "cbdb9e9f",
   "metadata": {},
   "source": [
    "## RATIONALE FOR HIGHER WEIGHTAGE:\n",
    "\n",
    "We believe, in our humble opinion, that our project should be graded more heavily on the data processing side as we performed multiple operations that went above and beyond the requirements of traditional databases. In addition to just collecting and cleaning our databse, we collected real time data from the Spotipy API which had a lot of standardization and formatting issues. In addition to these, we also had to separately query the song ids for each song in the real time data to collect further information that was consistent with the columns of our master db. We also noticed several instances (~238) of songs where the data was corrupted or wrong. Such inconsistencies were tackled by using multiple queries that matched for ids and updated each column to remain consistent with the overall parent database."
   ]
  },
  {
   "cell_type": "markdown",
   "id": "17bbd8d0",
   "metadata": {},
   "source": [
    "## DATA PROCESSING:\n",
    "\n",
    "Data cleaning and managing missing data: \n",
    "\n",
    "- Standardizing data columns: The columns had whitespaces that needed to be cleaned and standardized before they could be used for anaylsis. This was achieved using regex with `.replace()` function .\n",
    "\n",
    "- Formatting column datatypes: In order to perform analysis and operations on the columns, we transformed the column datatypes into suitable float format using `astype()`.\n",
    "\n",
    "- Dummy variable creation: The dataset contained some songs having multiple genres listed. In order to measure each genre's significance, we split the genre list, extracted and stored each genre category into seperate columns using `.str.contains()`, and created dummy variables."
   ]
  },
  {
   "cell_type": "code",
   "execution_count": 1,
   "id": "c97d5be6",
   "metadata": {
    "scrolled": false
   },
   "outputs": [
    {
     "ename": "ModuleNotFoundError",
     "evalue": "No module named 'redis'",
     "output_type": "error",
     "traceback": [
      "\u001b[1;31m---------------------------------------------------------------------------\u001b[0m",
      "\u001b[1;31mModuleNotFoundError\u001b[0m                       Traceback (most recent call last)",
      "Input \u001b[1;32mIn [1]\u001b[0m, in \u001b[0;36m<cell line: 10>\u001b[1;34m()\u001b[0m\n\u001b[0;32m      8\u001b[0m \u001b[38;5;28;01mimport\u001b[39;00m \u001b[38;5;21;01mplotly\u001b[39;00m\u001b[38;5;21;01m.\u001b[39;00m\u001b[38;5;21;01mexpress\u001b[39;00m \u001b[38;5;28;01mas\u001b[39;00m \u001b[38;5;21;01mpx\u001b[39;00m\n\u001b[0;32m      9\u001b[0m \u001b[38;5;28;01mimport\u001b[39;00m \u001b[38;5;21;01mplotly\u001b[39;00m\u001b[38;5;21;01m.\u001b[39;00m\u001b[38;5;21;01mgraph_objects\u001b[39;00m \u001b[38;5;28;01mas\u001b[39;00m \u001b[38;5;21;01mgo\u001b[39;00m\n\u001b[1;32m---> 10\u001b[0m \u001b[38;5;28;01mimport\u001b[39;00m \u001b[38;5;21;01mspotipy\u001b[39;00m\n\u001b[0;32m     11\u001b[0m \u001b[38;5;28;01mfrom\u001b[39;00m \u001b[38;5;21;01mspotipy\u001b[39;00m\u001b[38;5;21;01m.\u001b[39;00m\u001b[38;5;21;01moauth2\u001b[39;00m \u001b[38;5;28;01mimport\u001b[39;00m SpotifyClientCredentials\n\u001b[0;32m     12\u001b[0m \u001b[38;5;28;01mimport\u001b[39;00m \u001b[38;5;21;01mspotipy\u001b[39;00m\u001b[38;5;21;01m.\u001b[39;00m\u001b[38;5;21;01mutil\u001b[39;00m \u001b[38;5;28;01mas\u001b[39;00m \u001b[38;5;21;01mutil\u001b[39;00m\n",
      "File \u001b[1;32m~\\Downloads\\spotipy\\__init__.py:1\u001b[0m, in \u001b[0;36m<module>\u001b[1;34m\u001b[0m\n\u001b[1;32m----> 1\u001b[0m \u001b[38;5;28;01mfrom\u001b[39;00m \u001b[38;5;21;01m.\u001b[39;00m\u001b[38;5;21;01mcache_handler\u001b[39;00m \u001b[38;5;28;01mimport\u001b[39;00m \u001b[38;5;241m*\u001b[39m  \u001b[38;5;66;03m# noqa\u001b[39;00m\n\u001b[0;32m      2\u001b[0m \u001b[38;5;28;01mfrom\u001b[39;00m \u001b[38;5;21;01m.\u001b[39;00m\u001b[38;5;21;01mclient\u001b[39;00m \u001b[38;5;28;01mimport\u001b[39;00m \u001b[38;5;241m*\u001b[39m  \u001b[38;5;66;03m# noqa\u001b[39;00m\n\u001b[0;32m      3\u001b[0m \u001b[38;5;28;01mfrom\u001b[39;00m \u001b[38;5;21;01m.\u001b[39;00m\u001b[38;5;21;01mexceptions\u001b[39;00m \u001b[38;5;28;01mimport\u001b[39;00m \u001b[38;5;241m*\u001b[39m  \u001b[38;5;66;03m# noqa\u001b[39;00m\n",
      "File \u001b[1;32m~\\Downloads\\spotipy\\cache_handler.py:15\u001b[0m, in \u001b[0;36m<module>\u001b[1;34m\u001b[0m\n\u001b[0;32m     12\u001b[0m \u001b[38;5;28;01mimport\u001b[39;00m \u001b[38;5;21;01mos\u001b[39;00m\n\u001b[0;32m     13\u001b[0m \u001b[38;5;28;01mfrom\u001b[39;00m \u001b[38;5;21;01mspotipy\u001b[39;00m\u001b[38;5;21;01m.\u001b[39;00m\u001b[38;5;21;01mutil\u001b[39;00m \u001b[38;5;28;01mimport\u001b[39;00m CLIENT_CREDS_ENV_VARS\n\u001b[1;32m---> 15\u001b[0m \u001b[38;5;28;01mfrom\u001b[39;00m \u001b[38;5;21;01mredis\u001b[39;00m \u001b[38;5;28;01mimport\u001b[39;00m RedisError\n\u001b[0;32m     17\u001b[0m logger \u001b[38;5;241m=\u001b[39m logging\u001b[38;5;241m.\u001b[39mgetLogger(\u001b[38;5;18m__name__\u001b[39m)\n\u001b[0;32m     20\u001b[0m \u001b[38;5;28;01mclass\u001b[39;00m \u001b[38;5;21;01mCacheHandler\u001b[39;00m():\n",
      "\u001b[1;31mModuleNotFoundError\u001b[0m: No module named 'redis'"
     ]
    }
   ],
   "source": [
    "# Libraries to be used\n",
    "import numpy as np\n",
    "import pandas as pd\n",
    "import datetime as dt\n",
    "import matplotlib.pyplot as plt\n",
    "import seaborn as sns\n",
    "import re\n",
    "import plotly.express as px\n",
    "import plotly.graph_objects as go\n",
    "import spotipy\n",
    "from spotipy.oauth2 import SpotifyClientCredentials\n",
    "import spotipy.util as util\n",
    "import time\n",
    "from ipywidgets import interact, interactive, fixed, interact_manual\n",
    "import ipywidgets as widgets\n",
    "\n",
    "# to remove warnings\n",
    "import warnings\n",
    "warnings.filterwarnings('ignore')\n",
    "\n",
    "#Using a dummy client ID and Secret code to establish the connection\n",
    "SPOTIPY_CLIENT_ID='37a25407afb64dd3b994d30536f8b12c'\n",
    "SPOTIPY_CLIENT_SECRET='a74099f3c25b41fa97d2b750ce6fcc1e'\n",
    "\n",
    "# Read Kaggle Database\n",
    "df = pd.read_csv('Spotify_Kaggle.csv')\n",
    "\n",
    "# Drop duplicates\n",
    "df = df.drop_duplicates(subset='Song ID', keep='last')\n",
    "\n",
    "# Standardise formats of columns\n",
    "df['Streams'] = df['Streams'].replace(',','', regex=True)\n",
    "df['Artist Followers'] = df['Artist Followers'].str.replace('\\s','0')\n",
    "df['Danceability'] = df['Danceability'].str.replace('\\s','0')\n",
    "df['Popularity'] = df['Popularity'].str.replace('\\s','0')\n",
    "df['Energy'] = df['Energy'].str.replace('\\s','0')\n",
    "df['Loudness'] = df['Loudness'].str.replace('\\s','0')\n",
    "df['Speechiness'] = df['Speechiness'].str.replace('\\s','0')\n",
    "df['Acousticness'] = df['Acousticness'].str.replace('\\s','0')\n",
    "df['Liveness'] = df['Liveness'].str.replace('\\s','0')\n",
    "df['Tempo'] = df['Tempo'].str.replace('\\s','0')\n",
    "df['Duration (ms)'] = df['Duration (ms)'].str.replace('\\s','0')\n",
    "df['Valence'] = df['Valence'].str.replace('\\s','0')\n",
    "\n",
    "# Update column data types for ease of processing\n",
    "df['Streams'] = df['Streams'].astype(float)\n",
    "df['Artist Followers'] = df['Artist Followers'].astype(float)\n",
    "df['Danceability'] = df['Danceability'].astype(float)\n",
    "df['Popularity'] = df['Popularity'].astype(float)\n",
    "df['Energy'] = df['Energy'].astype(float)\n",
    "df['Loudness'] = df['Loudness'].astype(float)\n",
    "df['Speechiness'] = df['Speechiness'].astype(float)\n",
    "df['Acousticness'] = df['Acousticness'].astype(float)\n",
    "df['Liveness'] = df['Liveness'].astype(float)\n",
    "df['Tempo'] = df['Tempo'].astype(float)\n",
    "df['Duration (ms)'] = df['Duration (ms)'].astype(float)\n",
    "df['Valence'] = df['Valence'].astype(float)\n",
    "\n",
    "# Dummy variable creation for each genre\n",
    "# remove the unnecessary quotation mark in this column\n",
    "df['Genre'] = df['Genre'].str.replace('\\'','')\n",
    "#Create boolean for genres that belong to pop by using contains function and store in a new column\n",
    "df['pop'] = df['Genre'].str.contains('\\s*(pop)\\s*')\n",
    "#Create boolean for genres that belong to rap by using contains function and store in a new column\n",
    "df['rap'] = df['Genre'].str.contains('\\s*(rap)\\s*')\n",
    "#Create boolean for genres that belong to trap by using contains function and store in a new column\n",
    "df['trap'] = df['Genre'].str.contains('\\s*(trap)\\s*')\n",
    "#hip hop/ reggaeton/ latin/ electropop/ edm/ r&b/ country/ rock/\n",
    "df['hip hop'] = df['Genre'].str.contains('\\s*(hip hop)\\s*')\n",
    "df['reggaeton'] = df['Genre'].str.contains('\\s*(reggaeton)\\s*')\n",
    "df['latin'] = df['Genre'].str.contains('\\s*(latin)\\s*')\n",
    "df['electropop'] = df['Genre'].str.contains('\\s*(electropop)\\s*')\n",
    "df['edm'] = df['Genre'].str.contains('\\s*(edm)\\s*')\n",
    "df['r&b'] = df['Genre'].str.contains('\\s*(r&b)\\s*')\n",
    "df['country'] = df['Genre'].str.contains('\\s*(country)\\s*')\n",
    "df['rock'] = df['Genre'].str.contains('\\s*(rock)\\s*')\n",
    "#fill the NaN by using 0\n",
    "df.iloc[:,-11:] =  df.iloc[:,-11:].fillna(0)\n",
    "#revise the boolean to dummy variable by using astype function\n",
    "df.iloc[:,-11:] = df.iloc[:,-11:].astype(int)"
   ]
  },
  {
   "cell_type": "markdown",
   "id": "d7e8a04e",
   "metadata": {},
   "source": [
    "For the Spotipy implementation we have done the following to access the data:\n",
    "\n",
    "The client credential is first verified and then used to make valid search requests. The search request returns a <b>JSON metadata</b> about the track such album, unique song ID,song name, artists, artist ID popularity and release date of the track.To access the values of the same, it needs to be referenced by their corresponding keys. <br><br>\n",
    "Since the API limits the search request to 50 songs per search, we have provided the offset parameter to intialize the search after a batch of 50 songs.<br> <br>\n",
    "After storing the details of the top 1000 songs of 2022, we then request the audio features of each song provided in the markdown listed above.<br><br>\n",
    "The sleep function is implemented to not exceed the rate limit of requests."
   ]
  },
  {
   "cell_type": "code",
   "execution_count": null,
   "id": "cf1299fa",
   "metadata": {},
   "outputs": [],
   "source": [
    "## SPOTIPY CODE - Commented out this code as we are using stored results of the API call to avoid data mismatch\n",
    "\n",
    "# # Cleaned 235 songs with various artists\n",
    "# #researching and verifying for the songs and their attributes that belonged to 'Various Artists' \n",
    "\n",
    "# #Authorizing code flow for the client request\n",
    "# auth_manager = SpotifyClientCredentials(client_id=SPOTIPY_CLIENT_ID, client_secret=SPOTIPY_CLIENT_SECRET)\n",
    "# sp = spotipy.Spotify(auth_manager=auth_manager)\n",
    "\n",
    "# #extracting the top 50 songs of the year 2020\n",
    "# track_result = []\n",
    "# #Creating an empty dataframe to store the features of the songs in the above dataframe\n",
    "# features_df = pd.DataFrame()\n",
    "\n",
    "# for i in range (0,1000,50):\n",
    "#     track_data = sp.search(q='year:2022',type='track',limit=50,offset=i)\n",
    "# #Enumerating through the item track and extracting song name, album name, track id, release date and popularity\n",
    "#     for j,item in enumerate(track_data['tracks']['items']):\n",
    "#         track = item['album']\n",
    "#         track_id = item['id']\n",
    "#         track_name = item['name']\n",
    "#         popularity = item['popularity']\n",
    "#         artist=item['artists']\n",
    "# #Appending the extracted song attributes to the list track_result\n",
    "#         track_result.append((track_id,track_name,track['artists'][0]['id'], track['artists'][0]['name'], track['name'], track['release_date'], popularity))\n",
    "# #Converting the list track_result into a dataframe\n",
    "#         track_df = pd.DataFrame(track_result, index=None, columns=('Id','Song Name','Artist id','Artist', 'Album Name', 'Release Date', 'Popularity'))\n",
    "#     time.sleep(0.5)\n",
    "#     #Iterating through the dataframe to get the audio features\n",
    "# for id in track_df['Id'].iteritems():\n",
    "#     track_id = id[1]\n",
    "#     audio_features = sp.audio_features(track_id)\n",
    "#     local_features = pd.DataFrame(audio_features, index=[0])\n",
    "#     features_df = features_df.append(local_features)\n",
    "#     time.sleep(0.5)\n",
    "\n",
    "# #Merging the track data frame with its corresponding feature dataframe\n",
    "# final_df = track_df.merge(features_df,left_on='Id',right_on='id')\n",
    "\n",
    "# #Sorting the song list based on the popularity and setting index to song name\n",
    "# final_df = final_df.sort_values(by=['Popularity'], ascending=False)"
   ]
  },
  {
   "cell_type": "markdown",
   "id": "bd0ba48c",
   "metadata": {},
   "source": [
    "After analyzing the dataframe , we found that some tracks had inconsitent data with respect to the artist and their respective album for eg:<br>\n",
    "&nbsp;&nbsp;&nbsp;&nbsp;&nbsp;The track <i><b>Viva la Vida</b></i> which originally belongs to the Artist <i><b>'Coldplay'</b></i> and the album <i><b>Viva La Vida or Death and All His Friends</b></i>, had the artist as &nbsp;&nbsp;&nbsp;<b>Various Artist</b> and the album as <b>Billion Stream Hits</b>\n",
    "<br><br>\n",
    "So, to avoid the discrepancies regarding these tracks, we are searching for these songs again and appending with the valid song data to the original dataframe<br><br>\n",
    "The song artist followers and their respective genres has also been appended to the Spotify API data<br><br>\n",
    "Columns which did not contribute to the analysis were dropped and the final Spotify API data is stored into the .csv file"
   ]
  },
  {
   "cell_type": "code",
   "execution_count": null,
   "id": "3e765d79",
   "metadata": {},
   "outputs": [],
   "source": [
    "# #researching and verifying for the songs and their attributes that belonged to 'Various Artists' \n",
    "# track_result=[]\n",
    "# features_df = pd.DataFrame()\n",
    "# for i in range (760,998):\n",
    "#     track_data = sp.search(q='track:'+final_df[\"Song Name\"][i],type='track',limit=1)\n",
    "# #Enumerating through the item track and extracting song name, album name, track id, release date and popularity\n",
    "#     for j,item in enumerate(track_data['tracks']['items']):\n",
    "#         track = item['album']\n",
    "#         track_id = item['id']\n",
    "#         track_name = item['name']\n",
    "#         popularity = item['popularity']\n",
    "# #Appending the extracted song attributes to the list track_result\n",
    "#         track_result.append((track_id,track_name,track['artists'][0]['id'], track['artists'][0]['name'], track['name'], track['release_date'], popularity))\n",
    "# #Converting the list track_result into a dataframe\n",
    "#     track_df = pd.DataFrame(track_result, index=None, columns=('Id','Song Name','Artist id','Artist', 'Album Name', 'Release Date', 'Popularity'))\n",
    "#     time.sleep(0.5)\n",
    "#     #Iterating through the dataframe to get the audio features\n",
    "# for id in track_df['Id'].iteritems():\n",
    "#     track_id = id[1]\n",
    "#     audio_features = sp.audio_features(track_id)\n",
    "#     local_features = pd.DataFrame(audio_features, index=[0])\n",
    "#     features_df = features_df.append(local_features)\n",
    "#     time.sleep(0.5)\n",
    "# valid_df=track_df.merge(features_df,left_on='Id',right_on='id')\n",
    "# valid_df=valid_df.sort_values(by=['Popularity'], ascending=False)\n",
    "# valid_df\n",
    "\n",
    "# #Slicing out the dataframe containing Artists as 'Various Artist'\n",
    "# final_df=final_df[:761]\n",
    "# #dropping duplicates if any\n",
    "# valid_df.drop_duplicates(inplace=True)\n",
    "# #merging the dataframe with the 2022 song dataframe\n",
    "# result=pd.concat([final_df,valid_df])\n",
    "# result\n",
    "\n",
    "# #appending artist followers and genre\n",
    "# followers=[]\n",
    "# genre=[]\n",
    "# for i in result[\"Artist id\"]:\n",
    "#     followers.append(sp.artist('spotify:artist:'+i)['followers']['total'])\n",
    "#     genre.append(sp.artist('spotify:artist:'+i)['genres'])\n",
    "# result['Artist_followers']=followers\n",
    "# result['Genre']=genre\n",
    "\n",
    "# #Sorting the dataframe by popularity\n",
    "# result.sort_values(by='Popularity',ascending=False)\n",
    "# pd.set_option('display.max_columns',None)\n",
    "# result.drop(columns=['track_href',0,'uri','type','analysis_url','Artist id','Id','id','time_signature'],inplace=True)\n",
    "# result\n",
    "\n",
    "# #Saving the spotify's 2022 song dataframe as CSV\n",
    "# result.to_csv('Spotipy.csv',index=False)"
   ]
  },
  {
   "cell_type": "markdown",
   "id": "ba571b30",
   "metadata": {},
   "source": [
    "Finally, after updating, cleaning and obtaining the dataframe from our stored API results, we perform a final merge and cleaning process for the master database."
   ]
  },
  {
   "cell_type": "code",
   "execution_count": null,
   "id": "d010b863",
   "metadata": {},
   "outputs": [],
   "source": [
    "#spotipy\n",
    "# pulled data from spotipy and stored in a file to merge with the master db\n",
    "spotipy_df = pd.read_csv('Spotipy.csv')\n",
    "\n",
    "# Update column data types for ease of processing\n",
    "spotipy_df['Popularity']=df.Popularity.astype(float)\n",
    "spotipy_df['Streams']=df.Streams.astype(float)\n",
    "\n",
    "#Counting the number of unique values of popularity in descending order\n",
    "popularity_count=df['Popularity'].value_counts().sort_index(ascending=False)\n",
    "\n",
    "#Creating a dataframe to store mean value of streams for each unique value of popularity\n",
    "stream=np.zeros(len(df.Popularity.unique()))\n",
    "j=0\n",
    "for i in np.sort(df['Popularity'].unique())[::-1]:\n",
    "    stream[j]=stream[j]+sum(df[df['Popularity']==i]['Streams'])\n",
    "    stream[j]=stream[j]/popularity_count[i]\n",
    "    j+=1\n",
    "stream.astype(int)\n",
    "\n",
    "\n",
    "# Cleaning before merge\n",
    "\n",
    "result=pd.read_csv('Spotipy.csv')\n",
    "result.drop(columns=['Artist id','0','analysis_url','id','time_signature','track_href','type','uri'],inplace=True)\n",
    "result.rename(columns={'Id':'Song ID','key':'Chord','Artist_followers':'Artist Followers','duration_ms':'Duration (ms)','liveness':'Liveness','tempo':'Tempo','acousticness':'Acousticness','energy':'Energy','speechiness':'Speechiness','loudness':'Loudness','danceability':'Danceability','valence':'Valence'},inplace=True)\n",
    "df.drop(columns='Index',inplace=True)\n",
    "\n",
    "# Merge with Master\n",
    "df=pd.concat([df,result])\n",
    "df.sort_values(by=['Popularity','Release Date'],ascending=[False,True],inplace=True)\n",
    "\n",
    "#dropping columns which don't contribute to the analysis\n",
    "df.drop(columns=['instrumentalness','mode','Album Name','Highest Charting Position','Week of Highest Charting','Weeks Charted'],inplace=True)\n",
    "\n",
    "#final.loc[final.Artist!='Various Artists','Streams']=final.loc[final.Artist=='Various Artists','Streams'].fillna(method='ffill',limit=10)\n",
    "df.loc[df.Artist=='Various Artist','Artist Followers']=df.loc[df.Artist=='Various Artists','Artist Followers']=0\n",
    "\n",
    "#Searching for the songs with same popularity and replacing NaN values of streams with the corresponding stream values\n",
    "j=0\n",
    "for i in np.sort(df['Popularity'].unique())[::-1]:\n",
    "    if(i==0):\n",
    "        break\n",
    "    else:\n",
    "        df.loc[df.Popularity==i,'Streams']=df.loc[df.Popularity==i,'Streams'].fillna(value=stream[j])\n",
    "        j+=1\n",
    "\n",
    "#Replacing chord values with their notation\n",
    "df.replace({'Chord':{'C':0,'C#/Db':1,'D':2,'D#/Eb':3,'E':4,'F':5,'F#/Gb':6,'G':7,'G#/Ab':8,'A':9,'A#/Bb':10,'B':11}},inplace=True)\n",
    "\n",
    "#filling NaN values of 'number of times charted' column with forward fill method\n",
    "df['Number of Times Charted']=df['Number of Times Charted'].fillna(method='ffill',limit=5)\n",
    "\n",
    "#Dropping duplicates with respect to song IDs\n",
    "df.drop_duplicates(subset=['Song ID'],keep='first',inplace=True)\n",
    "df.dropna(inplace=True)"
   ]
  },
  {
   "cell_type": "markdown",
   "id": "3f768a6c",
   "metadata": {},
   "source": [
    "## DATA ANALYSIS:\n",
    "\n",
    "### Questions of Interest:\n",
    "\n",
    "1. Does the artist with the highest followers have the most success in today’s music industry?\n",
    "2. Are there any influential metrics/factors when it comes to the success of a song?\n",
    "3. Do people prefer listening to shorter songs over longer versions?\n",
    "4. How much does collaboration with different artists help in terms of success (listens, streams, views)?\n"
   ]
  },
  {
   "cell_type": "markdown",
   "id": "3a904738",
   "metadata": {},
   "source": [
    "\n",
    "### 1. Does the artist with the highest followers have the most success in today’s music industry?\n",
    "\n",
    "In other words, we try to see if there is any correlation with artist followers and their success.\n",
    "To answer this question the following success metrics are considered from the dataset.\n",
    "- Number of followers the artist has.\n",
    "- The total number of streams the artists' songs have.\n",
    "- The number of times an artist appears on top charts.\n",
    "\n",
    "We will get the top 5 artists for each of these metrics and check if a relationship exists between them. \n",
    "\n",
    "#### i. Artist Followers\n",
    "Starting with a copy of the original dataframe, fetching the artists and their followers. \"Followers\" subscribe to the artists' content and get notified when new music/album is released.\n",
    "\n",
    "#### ii. Artist Streams\n",
    "Next, we check artists with the most streams for their songs. Spotify defines the number of streams as the number of times a song is played over 30 seconds. For downloaded songs, streams are calculated when the listener goes online.\n",
    "\n",
    "To get the total number of streams for each artist, we group them based on artist names and calculate the overall stream count for all songs released by that artist.\n",
    "\n",
    "#### iii. Top Charts\n",
    "Spotify charts are similar to the BillBoard Hot 100 charts. Spotify claims that these charts are made by listeners based on traction received by a song. Artists with great music often get charted many times and this is why we consider it a metric in our analysis.\n",
    "\n",
    "We begin by grouping the data by Artist name and getting a total number of times the artist has been charted. We then get the artists with the maximum charting frequency."
   ]
  },
  {
   "cell_type": "code",
   "execution_count": null,
   "id": "207047a3",
   "metadata": {},
   "outputs": [],
   "source": [
    "#Creating a dataframe to get artists and their follower count\n",
    "artist_followers = df[['Artist', 'Artist Followers']].copy()\n",
    "artist_followers.sort_values(by=['Artist Followers'], ascending=False, inplace= True)\n",
    "#Removing duplicate entries for artists\n",
    "artist_followers = artist_followers.drop_duplicates(subset='Artist',keep='first')\n",
    "#Setting the artist name as dataframe index\n",
    "artist_followers.set_index('Artist', inplace=True)\n",
    "#Dividing number of followers by 1000000 to get artist follower count in millions\n",
    "artist_followers['Artist Followers'] = (artist_followers['Artist Followers']/1000000).round(2)\n",
    "\n",
    "#Get total number of streams for all songs of an artist \n",
    "artist_streams = df.groupby(by=['Artist'])\n",
    "artist_streams = artist_streams.Streams.sum()\n",
    "#Creating a dataframe to store the stream numbers\n",
    "artist_streams= pd.DataFrame(artist_streams)\n",
    "artist_streams.sort_values(by=['Streams'], ascending = False, inplace=True)\n",
    "#Dividing number of streams by 1000000 to get streams in millions\n",
    "artist_streams['Streams']= (artist_streams['Streams']/1000000).round(2)\n",
    "\n",
    "#Fetching the number of times an artist was top charted\n",
    "artist_charting_cnt = df.groupby(by=['Artist'])\n",
    "artist_charting_cnt = artist_charting_cnt['Number of Times Charted'].sum()\n",
    "#Storing into a dataframe\n",
    "artist_charting_cnt= pd.DataFrame(artist_charting_cnt)\n",
    "artist_charting_cnt.sort_values(by=['Number of Times Charted'], ascending = False, inplace=True)\n",
    "\n",
    "#Creating new dataframe to get most popular artists\n",
    "popular_artist = pd.merge(artist_followers,artist_streams,on='Artist')\n",
    "popular_artist = pd.merge(popular_artist, artist_charting_cnt, on = 'Artist')\n",
    "\n",
    "#Renaming the Artist stream and follower columns\n",
    "popular_artist = popular_artist.rename(columns ={'Artist Followers': 'Artist Followers in Millions', 'Streams' : 'Streams in Millions'})\n",
    "\n",
    "#Creating new dataframe to get most followed artists\n",
    "pop_artist_follower = popular_artist.sort_values(by=['Artist Followers in Millions'], ascending=False)\n",
    "\n",
    "#Creating new dataframe to get most streamed artists\n",
    "pop_artist_stream = popular_artist.sort_values(by=['Streams in Millions'], ascending=False)\n",
    "\n",
    "#Creating a interactive stacked bar plot to see the relationship between Streams and Followers of an artist\n",
    "artist_stream_followers= popular_artist[['Artist Followers in Millions', 'Streams in Millions']].copy().head(7)\n",
    "artist_stream_followers.reset_index(inplace=True)\n",
    "artist_stream_followers= artist_stream_followers.sort_values(by=['Streams in Millions'], ascending=False)\n",
    "\n",
    "#Creating a interactive stacked bar plot to see the relationship between Streams and Followers of an artist\n",
    "\n",
    "  \n",
    "stacked_bar = go.Figure(data=[go.Bar(name = 'Streams', x = artist_stream_followers['Artist'], y = artist_stream_followers['Streams in Millions']),\n",
    "                              go.Bar(name = 'Followers', x=artist_stream_followers['Artist'], y = artist_stream_followers['Artist Followers in Millions'])\n",
    "                             ])\n",
    " \n",
    "stacked_bar.update_layout(barmode='stack',title=\"Fig1: Artist's Followers vs Artist's Total Streams\")\n",
    "stacked_bar.show()\n",
    "\n",
    "#Checking the correlation between Artist Followers, Number of streams and number of times the artist was charted\n",
    "popular_artist_corr = popular_artist[['Artist Followers in Millions','Streams in Millions','Number of Times Charted']].copy().head(8)\n",
    "popular_artist_corr.corr()"
   ]
  },
  {
   "cell_type": "markdown",
   "id": "e7e0ac4d",
   "metadata": {},
   "source": [
    "To compare the relationship between streams and followers, we have plotted a stacked bar chart. \n",
    "\n",
    "We see that Justin Bieber has the most streams but his follower count isn't very **high**. This suggests that there may not be a direct relationship between the two metrics. Similarly, we can see that although collaborations between artists may imply larger following but not necessarily translate to higher number of streams. Ed Sheeran has the most number of followers amongst all the listed artists but streams for his music are lower than Justin, Drake and Ariana.\n",
    "\n",
    "The correlation matrix backs up the analysis as there is a very small correlation between Artist Followers and Artist Streams. However, the number of times an artist is charted has a significant influence on the artist's followers and streaming counts.\n",
    "\n",
    "Thus we can infer that the number of artist followers does not impact their success."
   ]
  },
  {
   "cell_type": "markdown",
   "id": "47434328",
   "metadata": {},
   "source": [
    "### 2. Are there any influential metrics/factors when it comes to the success of a song?"
   ]
  },
  {
   "cell_type": "code",
   "execution_count": null,
   "id": "786de5f8",
   "metadata": {
    "scrolled": false
   },
   "outputs": [],
   "source": [
    "df_corr = df[['Streams', 'Artist Followers', 'Popularity','Danceability','Energy','Loudness','Speechiness','Acousticness','Liveness','Duration (ms)','Valence','Tempo','Valence', 'pop', 'rap', 'trap', 'hip hop', 'reggaeton', 'latin', 'electropop', 'edm', 'r&b', 'country', 'rock']]\n",
    "sns.set(rc = {'figure.figsize':(30,5)})\n",
    "fig2 = sns.heatmap(df_corr.corr().head(3), annot=True, vmin=0, vmax=0.3)\n",
    "plt.yticks(rotation=0)\n",
    "plt.xticks(rotation=45)\n",
    "fig2.set(title = \"Fig2: Heatmap for correlation between song features\")\n",
    "plt.show()"
   ]
  },
  {
   "cell_type": "markdown",
   "id": "b602a86a",
   "metadata": {},
   "source": [
    "We can observe and infer from the above visualization that clearly there are no significant correlations of any song attribute with the song's success metrics such as Streams, Followers and Popularity."
   ]
  },
  {
   "cell_type": "markdown",
   "id": "881b1e13",
   "metadata": {},
   "source": [
    "### 3. Do people prefer listening to shorter songs over longer versions?\n",
    "\n",
    "\n",
    "### Our Assumption: \n",
    "When we began working on this project, we made the assumption that, given how hectic and stressful modern life is, most people prefer to listen to shorter songs than lengthier ones. To see if the most streamed songs support our hypothesis, we will create an <b>\"interactive scatter\"</b> plot."
   ]
  },
  {
   "cell_type": "markdown",
   "id": "d5fb2014",
   "metadata": {},
   "source": [
    "Now let's look at the song lengths that different musicians have created over time. To proceed, the length of songs will be translated from milliseconds (ms) to seconds as mentioned below. To get an indication of how long the most streamed song is, we have compared the length of songs to the number of streams. To accomplish this, we used bubble chart and references from https://plotly.com/python/bubble-charts/ to become more familiar with the interactive visualizations produced by the plotly library. For a reference on how the intended visualization will seem, we referred: https://www.kaggle.com/code/varunsaikanuri/spotify-data-visualization."
   ]
  },
  {
   "cell_type": "code",
   "execution_count": null,
   "id": "0b950249",
   "metadata": {
    "scrolled": false
   },
   "outputs": [],
   "source": [
    "#conversion of ms to second\n",
    "df['Duration (ms)'] = df['Duration (ms)'].astype(float)\n",
    "df['Duration']=df['Duration (ms)']//1000 #Floor division to get only the quotient\n",
    "df.drop(['Duration (ms)'], axis = 1,inplace = True)\n",
    "\n",
    "#plot duration of songs vs streams of songs \n",
    "fig3 = px.scatter(df, x=\"Streams\", y=\"Duration\",title = \"Fig3: Duration vs Number of streams\", color=\"Duration\" ,template = 'plotly_dark',size='Streams'  )\n",
    "fig3.show()"
   ]
  },
  {
   "cell_type": "markdown",
   "id": "746833ea",
   "metadata": {},
   "source": [
    "The observations we make from the <b>Duration VS Streams</b> visualisation are as follows:\n",
    "\n",
    "1. Songs with durations between 150 and 250 seconds and roughly 50 M are the most streamed.\n",
    "2. We observe that just few songs are streamed by listeners the most.\n",
    "3. The majority of the tracks range in length from 5 to 15 M streams.\n",
    "4. Only a small number of outliers with durations on the extremes can be seen.\n",
    "\n",
    "Considering the number of people who stream songs with a duration of about three minutes, it is clear from the observations above that people do indeed listen to shorter versions of music. This can make us think that the majority of individuals nowadays lead busy, hectic lives."
   ]
  },
  {
   "cell_type": "markdown",
   "id": "5f24d47b",
   "metadata": {},
   "source": [
    "From the graph above, we can infer that the most streamed songs are also often approximately 200 seconds in length. This is an advice we would like to give 'Lil Py' (new producing artist) to use when creating a new song. Our most streamed artist, Taylor Swift, has the most streamed song, therefore let's use her statistics to further validate our methodology.\n",
    "\n",
    "We understand that producing music costs a lot of money, therefore we don't want to put our customer at danger. Instead, we want to back up and further support our advice with the duration utilized in the most streamed song by the most popular artist."
   ]
  },
  {
   "cell_type": "code",
   "execution_count": null,
   "id": "516c0e8c",
   "metadata": {},
   "outputs": [],
   "source": [
    "#create a new dataframe for the most streamed artist\n",
    "df_most_streamed_artist = df[df['Artist'] == 'Taylor Swift']\n",
    "\n",
    "#plot a line plot to get insights\n",
    "px.line(df_most_streamed_artist.head(10),\n",
    "       x='Streams',y='Duration',labels={'song':'Total Songs'},width=1000,\n",
    "       color_discrete_sequence=['palevioletred'],template='plotly_dark',text='Song Name',title='<b> Fig4: Taylor Swift Songs: Duration vs Streams </b>')\n"
   ]
  },
  {
   "cell_type": "markdown",
   "id": "ae618607",
   "metadata": {},
   "source": [
    "The most streamed song by Taylor Swift, who will continue to be our most popular artist through 2022, is <b>Love Story</b> which has a duration of about 235 seconds if you click on it. The curve for <b>Cardigan</b>, another song with a high stream volume, is comparable. Overall, based on our data, we would advise \"Lil Py\" now to have a song that is between 180 and 280 seconds in length.\n",
    "\n",
    "As a result, this representation enables us to correctly predict our insight."
   ]
  },
  {
   "cell_type": "markdown",
   "id": "7abeabf3",
   "metadata": {},
   "source": [
    "### 4. How much does collaboration with different artists help in terms of success (listens, streams, views)?"
   ]
  },
  {
   "cell_type": "markdown",
   "id": "335c5a80",
   "metadata": {},
   "source": [
    "We now want to examine whether collaborations have any impact on a song's level of popularity. Our presumption is that since it combines many skills, styles, artist fans, and variety into a single song, it does have a favorable impact on popularity. Additionally, based on our own assumptions, songs these days tend to follow a genre like pop with a rap, which unquestionably involves collaboration."
   ]
  },
  {
   "cell_type": "markdown",
   "id": "2d0f7d28",
   "metadata": {},
   "source": [
    "A dummy variable column would be created as we move forward with this. It is assumed that the songs <b>with feat</b> in their name are <b>collaborations</b> and the tracks <b>without feat</b> are <b>singles.</b> Let's examine the popularity matrices for these two."
   ]
  },
  {
   "cell_type": "code",
   "execution_count": null,
   "id": "cb77e5d4",
   "metadata": {
    "scrolled": false
   },
   "outputs": [],
   "source": [
    "# creat a dummy variable of collaborations and use astype function to revise to boolean to int then to str\n",
    "df['collaboration'] = df['Song Name'].str.contains(\"feat\").astype(int).astype(str)\n",
    "\n",
    "#change the 0's and 1's to True and False to make our figure better\n",
    "df['collaboration'] = df['collaboration'].replace('0','False')\n",
    "df['collaboration'] = df['collaboration'].replace('1','True')"
   ]
  },
  {
   "cell_type": "markdown",
   "id": "ea305468",
   "metadata": {},
   "source": [
    "Let's create a dynamic bubble chart for the songs that were cowritten and those which were singles. In order to determine whether a new artist who is generating music can be advised on which partnerships to pursue, we will set the size of the bubble to Artist Follower."
   ]
  },
  {
   "cell_type": "code",
   "execution_count": null,
   "id": "d3fa2f29",
   "metadata": {
    "scrolled": false
   },
   "outputs": [],
   "source": [
    "#bubble chart\n",
    "fig = px.scatter(df,\n",
    "      x=\"Popularity\", y=\"Song Name\", size=\"Artist Followers\", color=\"collaboration\",\n",
    "      log_x=False, size_max=100,hover_name=\"Artist\",\n",
    "      template='plotly_dark', title=\"<b> Fig5: Song Collaborations : Popularity</b>\")\n",
    "\n",
    "fig.show()"
   ]
  },
  {
   "cell_type": "markdown",
   "id": "c1af7eda",
   "metadata": {},
   "source": [
    "The figure's blue color represents the singles that musicians have recorded, while the red bubbles represent collaborations. The song with the highest popularity score, \"Unholy,\" is a collaboration, although the number of fans who follow the artist isn't that high. This reveals the fact that musicians with less followers can collaborate to create music, which raises their success measure. We can see that collaborations range in popularity from 41 to 100. The graph's X axis is designated as Song Name to provide readers a general notion of the song's title and featured performer. Let's examine the graph using only the singles that artists have generated."
   ]
  },
  {
   "cell_type": "markdown",
   "id": "8798fca7",
   "metadata": {},
   "source": [
    "The aforementioned graph also features the song \"Begin',\" which has a popularity score of 100. Even still, it is clear that in this instance the artist's follower is not the best. The popularity number for singles ranges from 1 to 100, which leads us to believe that our presumption was accurate. Overall, songs with partnerships have greater success histories."
   ]
  },
  {
   "cell_type": "markdown",
   "id": "9adfef7e",
   "metadata": {},
   "source": [
    "Our assumption is accurate, thus we strongly advise our client to move forward with partnerships in order to attain sky-high numbers and success in the music business."
   ]
  },
  {
   "cell_type": "markdown",
   "id": "dbbb5c56",
   "metadata": {},
   "source": [
    "## Conclusions:\n",
    "\n",
    "To summarize our results, we can infer some intriguing patterns and relationships that can influence the decision making of our client who is a an upcoming artist:\n",
    "1) Artist followers and popularity clearly are not strong indicators of success or high stream count. Our client can safely assume that his low follower count, as a result of his early stage music career, will not have a significant impact on his stream count and success.\n",
    "\n",
    "2) From the lense of genres, we can infer that no individual genre has a huge impact on the success of a song. The overall muscial attributes of a track such as acousticness, danceability etc. also do not showcase any significant impact for the popularity or virality of a track. This is a great insight as it allows our client to explore their creative side and produce music that is true to their experiences and music vibe.\n",
    "\n",
    "3) When exploring the relationship between duration and the success, we could observe that the market demand for shorter duration of tracks has been on an uptrend and that the most streamed songs are typically between 140-210 seconds. Thus, our recommendation would be to produce tracks that are aligned with that range of duration to drive maximum success and streams.\n",
    "\n",
    "4) Finally, while exploring the effect of collaboration with other artists, we observed that when artists collaborate, their default threshold for popularity is 40 base points. This is strikingly different for the case when artists do not collaborate as the base threshold is 1 basis point. When thinking about this intuitively, it adds up as the more the artists collaborate, the more searched and viral the track will be due to the interaction of their different listening audience.\n",
    "\n",
    "These results are extremely meaningful as we believe that if our client focusses on collaboration with new artists while creating shorter duration tracks and exploring their musical creativity, they should be able to churn out bangers month after month!"
   ]
  },
  {
   "cell_type": "markdown",
   "id": "505dad04",
   "metadata": {},
   "source": [
    "# KEEP CREATING AND STREAMING OR RATHER 'SPOTIFYING'!!"
   ]
  },
  {
   "cell_type": "markdown",
   "id": "7d45152c",
   "metadata": {},
   "source": [
    "# Thank you!"
   ]
  },
  {
   "cell_type": "markdown",
   "id": "f4993c80",
   "metadata": {},
   "source": [
    "## References:\n",
    "\n",
    "1. Article title : Welcome to Spotipy! <br>\n",
    "URL : https://spotipy.readthedocs.io/en/2.21.0/ <br>\n",
    "Website title : Welcome to Spotipy! - spotipy 2.0 documentation <br>\n",
    "\n",
    "\n",
    "2. Article title : Bubble <br>\n",
    "URL : https://plotly.com/python/bubble-charts/ <br>\n",
    "Website title : Bubble charts in Python <br>\n",
    "\n",
    "3. Article title : Spotify Data Analysis with Python <br>\n",
    "URL : https://blog.devgenius.io/spotify-data-analysis-with-python-a727542beaa7 <br>\n",
    "Website title : Medium <br>\n",
    "Date published : March 25, 2022 <br>\n",
    "\n",
    "4. Article title :  Spotify Data Visualization <br>\n",
    "URL : https://www.kaggle.com/code/varunsaikanuri/spotify-data-visualization <br>\n",
    "Website title : Kaggle <br>\n",
    "Date published : October 12, 2022 <br>\n",
    "\n",
    "5. Article title : publiccode/1-Albums-tracks-audiofeatures.ipynb at master · prodramp/publiccode <br>\n",
    "URL : https://github.com/prodramp/publiccode/blob/master/machine_learning/spotify-projects/1-Albums-tracks-audiofeatures.ipynb <br>\n",
    "Website title : GitHub <br>\n",
    "Date published : March 17, 2022 <br>"
   ]
  }
 ],
 "metadata": {
  "kernelspec": {
   "display_name": "Python 3 (ipykernel)",
   "language": "python",
   "name": "python3"
  },
  "language_info": {
   "codemirror_mode": {
    "name": "ipython",
    "version": 3
   },
   "file_extension": ".py",
   "mimetype": "text/x-python",
   "name": "python",
   "nbconvert_exporter": "python",
   "pygments_lexer": "ipython3",
   "version": "3.9.12"
  },
  "vscode": {
   "interpreter": {
    "hash": "eda73c3a3657267c6417328aeafc3cf7cafcbf37f0644dda0e5ceb6d98e8544c"
   }
  }
 },
 "nbformat": 4,
 "nbformat_minor": 5
}
